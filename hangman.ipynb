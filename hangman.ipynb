{
 "cells": [
  {
   "cell_type": "code",
   "execution_count": 14,
   "metadata": {},
   "outputs": [
    {
     "name": "stdout",
     "output_type": "stream",
     "text": [
      "Set Length  4\n",
      "List Length  5\n"
     ]
    },
    {
     "data": {
      "text/plain": [
       "set"
      ]
     },
     "execution_count": 14,
     "metadata": {},
     "output_type": "execute_result"
    }
   ],
   "source": [
    "\n",
    "\n",
    "my_set = {\"a\", \"p\", \"p\", \"l\", \"e\"}\n",
    "my_list = [\"a\", \"p\", \"p\", \"l\", \"e\"]\n",
    "\n",
    "list_length = len(my_list)\n",
    "length = len(my_set)\n",
    "\n",
    "print(\"Set Length \", length)\n",
    "print(\"List Length \", list_length)\n",
    "\n",
    "type(my_set)"
   ]
  },
  {
   "cell_type": "code",
   "execution_count": null,
   "metadata": {},
   "outputs": [],
   "source": []
  }
 ],
 "metadata": {
  "kernelspec": {
   "display_name": "Python 3.10.4 ('hangman')",
   "language": "python",
   "name": "python3"
  },
  "language_info": {
   "codemirror_mode": {
    "name": "ipython",
    "version": 3
   },
   "file_extension": ".py",
   "mimetype": "text/x-python",
   "name": "python",
   "nbconvert_exporter": "python",
   "pygments_lexer": "ipython3",
   "version": "3.10.4"
  },
  "orig_nbformat": 4,
  "vscode": {
   "interpreter": {
    "hash": "6a5cc7fa149d05781081b8e0be527e6bbbaabe69e1c2fed8bcfa240c5e876454"
   }
  }
 },
 "nbformat": 4,
 "nbformat_minor": 2
}
